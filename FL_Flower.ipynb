{
 "cells": [
  {
   "cell_type": "code",
   "execution_count": null,
   "id": "20451528-06d7-4871-ae0c-5b9b8290f271",
   "metadata": {},
   "outputs": [],
   "source": [
    "import subprocess\n",
    "import time\n",
    "\n",
    "# Inicia o servidor\n",
    "server = subprocess.Popen([\"python\", \"server.py\"])\n",
    "print(\"Servidor iniciado.\")\n",
    "\n",
    "# Aguarda alguns segundos para garantir que o servidor está de pé\n",
    "time.sleep(3)\n",
    "\n",
    "# Inicia os clientes\n",
    "client1 = subprocess.Popen([\"python\", \"client_1.py\"])\n",
    "client2 = subprocess.Popen([\"python\", \"client_2.py\"])\n",
    "client3 = subprocess.Popen([\"python\", \"client_3.py\"])\n",
    "print(\"Clientes iniciados.\")\n"
   ]
  },
  {
   "cell_type": "code",
   "execution_count": null,
   "id": "ae335478-a91f-4652-8ec3-6448dacd24a5",
   "metadata": {},
   "outputs": [],
   "source": []
  }
 ],
 "metadata": {
  "kernelspec": {
   "display_name": "Python [conda env:.conda-federated_pytorch]",
   "language": "python",
   "name": "conda-env-.conda-federated_pytorch-py"
  },
  "language_info": {
   "codemirror_mode": {
    "name": "ipython",
    "version": 3
   },
   "file_extension": ".py",
   "mimetype": "text/x-python",
   "name": "python",
   "nbconvert_exporter": "python",
   "pygments_lexer": "ipython3",
   "version": "3.10.18"
  }
 },
 "nbformat": 4,
 "nbformat_minor": 5
}
