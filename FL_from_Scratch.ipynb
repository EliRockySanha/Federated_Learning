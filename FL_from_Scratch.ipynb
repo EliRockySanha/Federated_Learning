{
 "cells": [
  {
   "cell_type": "markdown",
   "id": "c5a51a88-d184-4e1f-80ae-59627ab05d09",
   "metadata": {},
   "source": [
    "# Federated Learning do Zero"
   ]
  },
  {
   "cell_type": "code",
   "execution_count": 2,
   "id": "87b34b3f-d9ed-4601-8a21-866571eb7cb1",
   "metadata": {},
   "outputs": [],
   "source": [
    "import numpy as np\n",
    "import pandas as pd\n",
    "import math\n",
    "import matplotlib.pyplot as plt"
   ]
  },
  {
   "cell_type": "code",
   "execution_count": 3,
   "id": "f77af2be-f18e-4d3e-b46e-17bd05bda187",
   "metadata": {
    "editable": true,
    "slideshow": {
     "slide_type": ""
    },
    "tags": []
   },
   "outputs": [
    {
     "data": {
      "text/plain": [
       "array([[  3.6216 ,   8.6661 ,  -2.8073 ,  -0.44699,   0.     ],\n",
       "       [  4.5459 ,   8.1674 ,  -2.4586 ,  -1.4621 ,   0.     ],\n",
       "       [  3.866  ,  -2.6383 ,   1.9242 ,   0.10645,   0.     ],\n",
       "       ...,\n",
       "       [ -3.7503 , -13.4586 ,  17.5932 ,  -2.7771 ,   1.     ],\n",
       "       [ -3.5637 ,  -8.3827 ,  12.393  ,  -1.2823 ,   1.     ],\n",
       "       [ -2.5419 ,  -0.65804,   2.6842 ,   1.1952 ,   1.     ]])"
      ]
     },
     "execution_count": 3,
     "metadata": {},
     "output_type": "execute_result"
    }
   ],
   "source": [
    "Dados = pd.read_csv('Datasets/banknote/data_banknote_authentication.csv')\n",
    "Dados = Dados.to_numpy()\n",
    "Dados"
   ]
  },
  {
   "cell_type": "code",
   "execution_count": 4,
   "id": "e259b0fc-11ae-4342-a4bb-6e7225953376",
   "metadata": {},
   "outputs": [],
   "source": [
    "m, n = Dados.shape # m número de linhas (amostras) n número de colunas\n",
    "n0 = n - 1 #n0 número de  (variáveis de entrada/dimensões)"
   ]
  },
  {
   "cell_type": "code",
   "execution_count": 5,
   "id": "934a9b2a-b838-4f00-bcf9-ce9eeaab3f3f",
   "metadata": {},
   "outputs": [
    {
     "data": {
      "text/plain": [
       "4"
      ]
     },
     "execution_count": 5,
     "metadata": {},
     "output_type": "execute_result"
    }
   ],
   "source": [
    "n0"
   ]
  },
  {
   "cell_type": "code",
   "execution_count": 6,
   "id": "cfdc1155-6e7f-4a00-81d4-b163d3100c94",
   "metadata": {},
   "outputs": [],
   "source": [
    "randseq = np.random.permutation(m)\n",
    "dados = Dados[randseq[0:m], 0:n]"
   ]
  },
  {
   "cell_type": "code",
   "execution_count": 7,
   "id": "6530d716-d6e2-4a16-a527-de9a0ce755ca",
   "metadata": {},
   "outputs": [
    {
     "name": "stdout",
     "output_type": "stream",
     "text": [
      "1097 275\n"
     ]
    }
   ],
   "source": [
    "#Separar dados de cliente \n",
    "trainval = math.floor(m*0.8) \n",
    "testval= m - trainval\n",
    "\n",
    "print(trainval, testval)"
   ]
  },
  {
   "cell_type": "code",
   "execution_count": 8,
   "id": "f9f0962a-9afc-4096-9af5-72a37b18f1eb",
   "metadata": {},
   "outputs": [],
   "source": [
    "NumofClients = 10\n",
    "\n",
    "vec = np.random.randint(5, trainval, NumofClients)\n",
    "total = np.sum(vec)\n",
    "list_clients = (np.ceil((vec/total)*trainval)).astype(int)\n",
    "rem = trainval - np.sum(list_clients)\n",
    "list_clients[-1] = list_clients[-1] + rem"
   ]
  },
  {
   "cell_type": "code",
   "execution_count": 9,
   "id": "e4ceb18e-6bff-436b-aaa7-8eafb13c2c02",
   "metadata": {},
   "outputs": [
    {
     "data": {
      "text/plain": [
       "array([185, 100, 116,  27, 163,  43,  18, 210, 146,  89])"
      ]
     },
     "execution_count": 9,
     "metadata": {},
     "output_type": "execute_result"
    }
   ],
   "source": [
    "list_clients"
   ]
  },
  {
   "cell_type": "code",
   "execution_count": 10,
   "id": "15e4552f-ae55-4ce5-85b7-e0aced42d1aa",
   "metadata": {},
   "outputs": [],
   "source": [
    "#Separar dados para os clientes\n",
    "for i in range(NumofClients):\n",
    "    if i == 0:\n",
    "        SplitData = dados[0:list_clients[0], :]\n",
    "    else:\n",
    "         SplitData = dados[np.sum(list_clients[0:i]):np.sum(list_clients[0:i])+list_clients[i], :]\n",
    "    pd.DataFrame(SplitData).to_csv(\"data_split/data_split_\"+str(i+1)+ \".csv\", header=False, index=False)        "
   ]
  },
  {
   "cell_type": "code",
   "execution_count": 11,
   "id": "280dc0ac-ee16-4f2d-9861-061b4aa71434",
   "metadata": {},
   "outputs": [],
   "source": [
    "X_test = dados[trainval:m+1, 0:n0].T\n",
    "y_test = dados[trainval:m+1, n0].reshape(1, m-trainval)"
   ]
  },
  {
   "cell_type": "code",
   "execution_count": 12,
   "id": "209ed9d9-ec8f-4dfa-ac7d-7cd20fafd0e8",
   "metadata": {},
   "outputs": [],
   "source": [
    "def sigmoid(z):\n",
    "    s = 1/(1+np.exp(-z))\n",
    "    return s"
   ]
  },
  {
   "cell_type": "code",
   "execution_count": 13,
   "id": "fe9d92b5-6387-4a39-b7c4-1580a40c39d5",
   "metadata": {},
   "outputs": [],
   "source": [
    "# Hiperparâmetros\n",
    "L = 4\n",
    "nx = np.array([n0, 5, 5, 1]) #neurônios por camada\n",
    "\n",
    "learning_rate = 0.05\n",
    "iterations = 10\n",
    "rounds = 100"
   ]
  },
  {
   "cell_type": "code",
   "execution_count": 14,
   "id": "d5fa6567-f03b-44de-8625-abe3864a6547",
   "metadata": {},
   "outputs": [],
   "source": [
    "# Inicialização do modelo global pelo Servidor\n",
    "\n",
    "W1 = np.random.randn(nx[1],nx[0])\n",
    "b1 = np.random.randn(nx[1],1)\n",
    "\n",
    "W2 = np.random.randn(nx[2],nx[1])\n",
    "b2 = np.random.randn(nx[2],1)\n",
    "\n",
    "W3 = np.random.randn(nx[3],nx[2])\n",
    "b3 = np.random.randn(nx[3],1)\n",
    "\n",
    "#Salvando o modelo global em arquivos CSV\n",
    "\n",
    "pd.DataFrame(W1).to_csv(\"avg_parameters/W1_avg.csv\", header=False, index=False)\n",
    "pd.DataFrame(b1).to_csv(\"avg_parameters/b1_avg.csv\", header=False, index=False)\n",
    "\n",
    "pd.DataFrame(W2).to_csv(\"avg_parameters/W2_avg.csv\", header=False, index=False)\n",
    "pd.DataFrame(b2).to_csv(\"avg_parameters/b2_avg.csv\", header=False, index=False)\n",
    "\n",
    "pd.DataFrame(W3).to_csv(\"avg_parameters/W3_avg.csv\", header=False, index=False)\n",
    "pd.DataFrame(b3).to_csv(\"avg_parameters/b3_avg.csv\", header=False, index=False)"
   ]
  },
  {
   "cell_type": "code",
   "execution_count": 15,
   "id": "684ce759-35e4-4ebe-a368-b30910547d60",
   "metadata": {},
   "outputs": [
    {
     "name": "stdout",
     "output_type": "stream",
     "text": [
      "Round: 1, Loss: [0.38987171], Accuracy: [0.59636364]\n",
      "Round: 2, Loss: [0.29494204], Accuracy: [0.59636364]\n",
      "Round: 3, Loss: [0.21988434], Accuracy: [0.59636364]\n",
      "Round: 4, Loss: [0.17021145], Accuracy: [0.59636364]\n",
      "Round: 5, Loss: [0.14248039], Accuracy: [0.59636364]\n",
      "Round: 6, Loss: [0.12889255], Accuracy: [0.59636364]\n",
      "Round: 7, Loss: [0.12231539], Accuracy: [0.59636364]\n",
      "Round: 8, Loss: [0.11867678], Accuracy: [0.66181818]\n",
      "Round: 9, Loss: [0.11607543], Accuracy: [0.69454545]\n",
      "Round: 10, Loss: [0.11372645], Accuracy: [0.70545455]\n",
      "Round: 11, Loss: [0.11134661], Accuracy: [0.72363636]\n",
      "Round: 12, Loss: [0.10885161], Accuracy: [0.73090909]\n",
      "Round: 13, Loss: [0.10622417], Accuracy: [0.73818182]\n",
      "Round: 14, Loss: [0.10346605], Accuracy: [0.75636364]\n",
      "Round: 15, Loss: [0.10058545], Accuracy: [0.81818182]\n",
      "Round: 16, Loss: [0.0975947], Accuracy: [0.87272727]\n",
      "Round: 17, Loss: [0.09451542], Accuracy: [0.89090909]\n",
      "Round: 18, Loss: [0.09139856], Accuracy: [0.89454545]\n",
      "Round: 19, Loss: [0.08833352], Accuracy: [0.90545455]\n",
      "Round: 20, Loss: [0.08540678], Accuracy: [0.90909091]\n",
      "Round: 21, Loss: [0.08265655], Accuracy: [0.90909091]\n",
      "Round: 22, Loss: [0.0800772], Accuracy: [0.91272727]\n",
      "Round: 23, Loss: [0.07764691], Accuracy: [0.92]\n",
      "Round: 24, Loss: [0.07534528], Accuracy: [0.92727273]\n",
      "Round: 25, Loss: [0.07315793], Accuracy: [0.93454545]\n",
      "Round: 26, Loss: [0.07107521], Accuracy: [0.93818182]\n",
      "Round: 27, Loss: [0.06908978], Accuracy: [0.93818182]\n",
      "Round: 28, Loss: [0.06719493], Accuracy: [0.93818182]\n",
      "Round: 29, Loss: [0.06538367], Accuracy: [0.94181818]\n",
      "Round: 30, Loss: [0.06364855], Accuracy: [0.94545455]\n",
      "Round: 31, Loss: [0.06198192], Accuracy: [0.94545455]\n",
      "Round: 32, Loss: [0.06037667], Accuracy: [0.94545455]\n",
      "Round: 33, Loss: [0.05882696], Accuracy: [0.94545455]\n",
      "Round: 34, Loss: [0.05732878], Accuracy: [0.95272727]\n",
      "Round: 35, Loss: [0.05587957], Accuracy: [0.95272727]\n",
      "Round: 36, Loss: [0.05447683], Accuracy: [0.95272727]\n",
      "Round: 37, Loss: [0.05311706], Accuracy: [0.95636364]\n",
      "Round: 38, Loss: [0.05179656], Accuracy: [0.95636364]\n",
      "Round: 39, Loss: [0.05051364], Accuracy: [0.95636364]\n",
      "Round: 40, Loss: [0.04927001], Accuracy: [0.96]\n",
      "Round: 41, Loss: [0.04806943], Accuracy: [0.96727273]\n",
      "Round: 42, Loss: [0.04691472], Accuracy: [0.96727273]\n",
      "Round: 43, Loss: [0.04580619], Accuracy: [0.97090909]\n",
      "Round: 44, Loss: [0.04474192], Accuracy: [0.97090909]\n",
      "Round: 45, Loss: [0.04371901], Accuracy: [0.97090909]\n",
      "Round: 46, Loss: [0.04273452], Accuracy: [0.97090909]\n",
      "Round: 47, Loss: [0.0417858], Accuracy: [0.97454545]\n",
      "Round: 48, Loss: [0.04087054], Accuracy: [0.97818182]\n",
      "Round: 49, Loss: [0.03998673], Accuracy: [0.97818182]\n",
      "Round: 50, Loss: [0.03913271], Accuracy: [0.97818182]\n",
      "Round: 51, Loss: [0.03830727], Accuracy: [0.98545455]\n",
      "Round: 52, Loss: [0.03750965], Accuracy: [0.98545455]\n",
      "Round: 53, Loss: [0.03673946], Accuracy: [0.98545455]\n",
      "Round: 54, Loss: [0.03599652], Accuracy: [0.98545455]\n",
      "Round: 55, Loss: [0.0352806], Accuracy: [0.98545455]\n",
      "Round: 56, Loss: [0.03459132], Accuracy: [0.98545455]\n",
      "Round: 57, Loss: [0.03392805], Accuracy: [0.98545455]\n",
      "Round: 58, Loss: [0.03328996], Accuracy: [0.98545455]\n",
      "Round: 59, Loss: [0.03267602], Accuracy: [0.98545455]\n",
      "Round: 60, Loss: [0.03208514], Accuracy: [0.98545455]\n",
      "Round: 61, Loss: [0.03151617], Accuracy: [0.98545455]\n",
      "Round: 62, Loss: [0.03096798], Accuracy: [0.98545455]\n",
      "Round: 63, Loss: [0.03043949], Accuracy: [0.98545455]\n",
      "Round: 64, Loss: [0.02992967], Accuracy: [0.98545455]\n",
      "Round: 65, Loss: [0.02943755], Accuracy: [0.98545455]\n",
      "Round: 66, Loss: [0.02896223], Accuracy: [0.98181818]\n",
      "Round: 67, Loss: [0.02850284], Accuracy: [0.98181818]\n",
      "Round: 68, Loss: [0.0280586], Accuracy: [0.98181818]\n",
      "Round: 69, Loss: [0.02762878], Accuracy: [0.98181818]\n",
      "Round: 70, Loss: [0.02721268], Accuracy: [0.98181818]\n",
      "Round: 71, Loss: [0.02680967], Accuracy: [0.98181818]\n",
      "Round: 72, Loss: [0.02641916], Accuracy: [0.98181818]\n",
      "Round: 73, Loss: [0.02604058], Accuracy: [0.98181818]\n",
      "Round: 74, Loss: [0.02567342], Accuracy: [0.98181818]\n",
      "Round: 75, Loss: [0.02531717], Accuracy: [0.98181818]\n",
      "Round: 76, Loss: [0.02497138], Accuracy: [0.98181818]\n",
      "Round: 77, Loss: [0.0246356], Accuracy: [0.98545455]\n",
      "Round: 78, Loss: [0.02430941], Accuracy: [0.98545455]\n",
      "Round: 79, Loss: [0.02399241], Accuracy: [0.98545455]\n",
      "Round: 80, Loss: [0.02368423], Accuracy: [0.98545455]\n",
      "Round: 81, Loss: [0.02338449], Accuracy: [0.98545455]\n",
      "Round: 82, Loss: [0.02309287], Accuracy: [0.98545455]\n",
      "Round: 83, Loss: [0.02280902], Accuracy: [0.98545455]\n",
      "Round: 84, Loss: [0.02253265], Accuracy: [0.98545455]\n",
      "Round: 85, Loss: [0.02226344], Accuracy: [0.98545455]\n",
      "Round: 86, Loss: [0.02200112], Accuracy: [0.98545455]\n",
      "Round: 87, Loss: [0.02174543], Accuracy: [0.98545455]\n",
      "Round: 88, Loss: [0.02149611], Accuracy: [0.98545455]\n",
      "Round: 89, Loss: [0.02125291], Accuracy: [0.98545455]\n",
      "Round: 90, Loss: [0.02101561], Accuracy: [0.98545455]\n",
      "Round: 91, Loss: [0.02078399], Accuracy: [0.98545455]\n",
      "Round: 92, Loss: [0.02055785], Accuracy: [0.98545455]\n",
      "Round: 93, Loss: [0.02033699], Accuracy: [0.98545455]\n",
      "Round: 94, Loss: [0.02012122], Accuracy: [0.98545455]\n",
      "Round: 95, Loss: [0.01991037], Accuracy: [0.98545455]\n",
      "Round: 96, Loss: [0.01970428], Accuracy: [0.98545455]\n",
      "Round: 97, Loss: [0.01950277], Accuracy: [0.98545455]\n",
      "Round: 98, Loss: [0.01930569], Accuracy: [0.98545455]\n",
      "Round: 99, Loss: [0.01911292], Accuracy: [0.98545455]\n",
      "Round: 100, Loss: [0.01892429], Accuracy: [0.98545455]\n"
     ]
    }
   ],
   "source": [
    "Avg_Loss = np.zeros((rounds,1))\n",
    "Accuracy = np.zeros((rounds,1))\n",
    "\n",
    "for r in range(rounds):\n",
    "\n",
    "    for client in range(NumofClients): \n",
    "\n",
    "        \n",
    "        Data_X = pd.read_csv(\"data_split/data_split_\"+str(client+1)+\".csv\", header=None)\n",
    "        Data_X = Data_X.to_numpy()\n",
    "\n",
    "        m_X, n_X = Data_X.shape\n",
    "        n0 = n_X - 1\n",
    "\n",
    "        X_train = Data_X[:, 0:n0].T\n",
    "        y_train = Data_X[:, n0].reshape(1, m_X)\n",
    "\n",
    "        # Each client uses the global model received from \n",
    "        # the server in the first iteration\n",
    "        W1 = pd.read_csv(\"avg_parameters/W1_avg.csv\", header=None)\n",
    "        W1 = W1.to_numpy()\n",
    "\n",
    "        W2 = pd.read_csv(\"avg_parameters/W2_avg.csv\", header=None)\n",
    "        W2 = W2.to_numpy()\n",
    "\n",
    "        W3 = pd.read_csv(\"avg_parameters/W3_avg.csv\", header=None)\n",
    "        W3 = W3.to_numpy()\n",
    "\n",
    "        b1 = pd.read_csv(\"avg_parameters/b1_avg.csv\", header=None)\n",
    "        b1 = b1.to_numpy()\n",
    "\n",
    "        b2 = pd.read_csv(\"avg_parameters/b2_avg.csv\", header=None)\n",
    "        b2 = b2.to_numpy()\n",
    "\n",
    "        b3 = pd.read_csv(\"avg_parameters/b3_avg.csv\", header=None)\n",
    "        b3 = b3.to_numpy()\n",
    "\n",
    "        J = np.zeros((iterations,1))\n",
    "\n",
    "        for i in range(iterations):\n",
    "\n",
    "            # Forward propagation\n",
    "            Z1 = np.dot(W1, X_train) + b1\n",
    "            A1 = sigmoid(Z1)\n",
    "\n",
    "            Z2 = np.dot(W2, A1) + b2\n",
    "            A2 = sigmoid(Z2)\n",
    "\n",
    "            Z3 = np.dot(W3, A2) + b3\n",
    "            A3 = sigmoid(Z3)\n",
    "\n",
    "            # J[i] = (-1/m_X)*np.sum(y_train*np.log(A3) + (1-y_train)*np.log(1-A3))\n",
    "            \n",
    "            # Backward propagation\n",
    "            dZ3 = A3-y_train\n",
    "            dW3 = (1/m_X)*np.dot(dZ3, A2.T)\n",
    "            db3 = (1/m_X)*np.sum(dZ3, axis = 1, keepdims = True)\n",
    "\n",
    "            dA2 = A2*(1-A2)\n",
    "            dZ2 = np.dot(W3.T, dZ3)*dA2\n",
    "            dW2 = (1/m_X)*np.dot(dZ2, A1.T)\n",
    "            db2 = (1/m_X)*np.sum(dZ2, axis = 1, keepdims = True)\n",
    "\n",
    "            dA1 = A1*(1-A1)\n",
    "            dZ1 = np.dot(W2.T, dZ2)*dA1\n",
    "            dW1 = (1/m_X)*np.dot(dZ1, X_train.T)\n",
    "            db1 = (1/m_X)*np.sum(dZ1, axis = 1, keepdims = True)\n",
    "\n",
    "            W1 = W1 - learning_rate*dW1\n",
    "            b1 = b1 - learning_rate*db1\n",
    "\n",
    "            W2 = W2 - learning_rate*dW2\n",
    "            b2 = b2 - learning_rate*db2\n",
    "\n",
    "            W3 = W3 - learning_rate*dW3\n",
    "            b3 = b3 - learning_rate*db3\n",
    "\n",
    "        # Each client sends the local models to\n",
    "        # the server\n",
    "        pd.DataFrame(W1*m_X).to_csv(\"ind_parameters/W1_\"+str(client+1)+\".csv\", header=False, index=False)\n",
    "        pd.DataFrame(W2*m_X).to_csv(\"ind_parameters/W2_\"+str(client+1)+\".csv\", header=False, index=False)\n",
    "        pd.DataFrame(W3*m_X).to_csv(\"ind_parameters/W3_\"+str(client+1)+\".csv\", header=False, index=False)\n",
    "\n",
    "        pd.DataFrame(b1*m_X).to_csv(\"ind_parameters/b1_\"+str(client+1)+\".csv\", header=False, index=False)\n",
    "        pd.DataFrame(b2*m_X).to_csv(\"ind_parameters/b2_\"+str(client+1)+\".csv\", header=False, index=False)\n",
    "        pd.DataFrame(b3*m_X).to_csv(\"ind_parameters/b3_\"+str(client+1)+\".csv\", header=False, index=False)\n",
    "\n",
    "    # The server aggregate/average the local models\n",
    "\n",
    "    W1 = np.zeros([nx[1],nx[0]]) \n",
    "    b1 = np.zeros([nx[1],1])\n",
    "\n",
    "    W2 = np.zeros([nx[2],nx[1]]) \n",
    "    b2 = np.zeros([nx[2],1])\n",
    "\n",
    "    W3 = np.zeros([nx[3],nx[2]])\n",
    "    b3 = np.zeros([nx[3],1])\n",
    "\n",
    "    for client in range(NumofClients):\n",
    "        W1 = W1 + pd.read_csv(\"ind_parameters/W1_\"+str(client+1)+\".csv\", header=None)\n",
    "        W2 = W2 + pd.read_csv(\"ind_parameters/W2_\"+str(client+1)+\".csv\", header=None)\n",
    "        W3 = W3 + pd.read_csv(\"ind_parameters/W3_\"+str(client+1)+\".csv\", header=None)\n",
    "\n",
    "        b1 = b1 + pd.read_csv(\"ind_parameters/b1_\"+str(client+1)+\".csv\", header=None)\n",
    "        b2 = b2 + pd.read_csv(\"ind_parameters/b2_\"+str(client+1)+\".csv\", header=None)\n",
    "        b3 = b3 + pd.read_csv(\"ind_parameters/b3_\"+str(client+1)+\".csv\", header=None)\n",
    "\n",
    "    W1 = W1.to_numpy()\n",
    "    W2 = W2.to_numpy()\n",
    "    W3 = W3.to_numpy()\n",
    "\n",
    "    b1 = b1.to_numpy()\n",
    "    b2 = b2.to_numpy()\n",
    "    b3 = b3.to_numpy()\n",
    "\n",
    "    W1_avg = W1/trainval\n",
    "    W2_avg = W2/trainval\n",
    "    W3_avg = W3/trainval\n",
    "\n",
    "    b1_avg = b1/trainval\n",
    "    b2_avg = b2/trainval\n",
    "    b3_avg = b3/trainval\n",
    "\n",
    "    pd.DataFrame(W1_avg).to_csv(\"avg_parameters/W1_avg.csv\", header=False, index=False)\n",
    "    pd.DataFrame(W2_avg).to_csv(\"avg_parameters/W2_avg.csv\", header=False, index=False)\n",
    "    pd.DataFrame(W3_avg).to_csv(\"avg_parameters/W3_avg.csv\", header=False, index=False)\n",
    "\n",
    "    pd.DataFrame(b1_avg).to_csv(\"avg_parameters/b1_avg.csv\", header=False, index=False)\n",
    "    pd.DataFrame(b2_avg).to_csv(\"avg_parameters/b2_avg.csv\", header=False, index=False)\n",
    "    pd.DataFrame(b3_avg).to_csv(\"avg_parameters/b3_avg.csv\", header=False, index=False)\n",
    "\n",
    "    # Evaluation of the global model on\n",
    "    # the testing dataset\n",
    "    Z1 = np.dot(W1_avg, X_test) + b1_avg\n",
    "    A1 = sigmoid(Z1)\n",
    "\n",
    "    Z2 = np.dot(W2_avg, A1) + b2_avg\n",
    "    A2 = sigmoid(Z2)\n",
    "\n",
    "    Z3 = np.dot(W3_avg, A2) + b3_avg\n",
    "    A3 = sigmoid(Z3)\n",
    "\n",
    "    Avg_Loss[r] = (-1/m)*np.sum(y_test*np.log(A3) + (1-y_test)*np.log(1-A3))\n",
    "\n",
    "    y_pred = A3 > 0.5\n",
    "    Accuracy[r] = 1 - np.sum(abs(y_pred - y_test))/testval\n",
    "\n",
    "    print(f\"Round: {r+1}, Loss: {Avg_Loss[r]}, Accuracy: {Accuracy[r]}\")\n"
   ]
  },
  {
   "cell_type": "code",
   "execution_count": 16,
   "id": "5104f52e-dc12-4fe4-93fa-0506ea2608b4",
   "metadata": {},
   "outputs": [
    {
     "data": {
      "image/png": "[encoded data removed]",
      "text/plain": [
       "<Figure size 640x480 with 2 Axes>"
      ]
     },
     "metadata": {},
     "output_type": "display_data"
    }
   ],
   "source": [
    "plt.subplot(1, 2, 1)\n",
    "plt.plot(Avg_Loss)\n",
    "plt.grid()\n",
    "plt.xlabel('iterations')\n",
    "plt.ylabel('Loss')\n",
    "\n",
    "plt.subplot(1, 2, 2)\n",
    "plt.plot(Accuracy)\n",
    "plt.grid()\n",
    "plt.xlabel('iterations')\n",
    "plt.ylabel('Accuracy')\n",
    "\n",
    "plt.subplots_adjust(left=0,\n",
    "                    bottom=0.1, \n",
    "                    right=1.5, \n",
    "                    top=0.9, \n",
    "                    wspace=0.2, \n",
    "                    hspace=0.2)\n",
    "\n",
    "plt.show()"
   ]
  },
  {
   "cell_type": "code",
   "execution_count": null,
   "id": "0ab09fea-805e-47c5-95c2-bd3fbabfe6ca",
   "metadata": {},
   "outputs": [],
   "source": []
  }
 ],
 "metadata": {
  "kernelspec": {
   "display_name": "Python 3 (ipykernel)",
   "language": "python",
   "name": "python3"
  },
  "language_info": {
   "codemirror_mode": {
    "name": "ipython",
    "version": 3
   },
   "file_extension": ".py",
   "mimetype": "text/x-python",
   "name": "python",
   "nbconvert_exporter": "python",
   "pygments_lexer": "ipython3",
   "version": "3.10.18"
  }
 },
 "nbformat": 4,
 "nbformat_minor": 5
}
